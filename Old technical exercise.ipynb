{
 "cells": [
  {
   "cell_type": "code",
   "execution_count": 107,
   "metadata": {},
   "outputs": [],
   "source": [
    "#import packages\n",
    "import pandas as pd\n",
    "import re\n",
    "import seaborn as sns\n",
    "import matplotlib.pyplot as plt"
   ]
  },
  {
   "cell_type": "code",
   "execution_count": null,
   "metadata": {},
   "outputs": [],
   "source": [
    "gp_csv = \"/Users/GDEW/Dropbox/Jobs/GDS Associate DS/data_scientist_technical_exercise_data/GPPractices.csv\"\n",
    "indicators_csv = \"/Users/GDEW/Dropbox/Jobs/GDS Associate DS/data_scientist_technical_exercise_data/TransparencyIndicatorsGPPerformance.csv\"\n",
    "hours_csv = \"/Users/GDEW/Dropbox/Jobs/GDS Associate DS/data_scientist_technical_exercise_data/GPOpeningTimes.csv\"\n",
    "gp = pd.read_csv(gp_csv,\n",
    "                 header=0,\n",
    "                 sep=\"¬\",\n",
    "                 engine=\"python\",\n",
    "                 encoding='latin-1')\n",
    "indicators = pd.read_csv(indicators_csv,\n",
    "                        header=0,\n",
    "                        sep=\"¬\",\n",
    "                        engine=\"python\",\n",
    "                        encoding='latin-1')\n",
    "hours = pd.read_csv(hours_csv,\n",
    "                        header=0,\n",
    "                        sep=\"¬\",\n",
    "                        engine=\"python\",\n",
    "                        encoding='latin-1')\n",
    "#clean hours df\n",
    "hours.rename(columns={'OrganisationId': 'OrganisationID'}, inplace=True)\n",
    "hours['Open'], hours['Close'] = hours['Times'].str.split('-', 1).str\n",
    "hours.drop(columns='Times')\n",
    "hours = hours[['OrganisationID','WeekDay','Open','Close','OpeningTimeType','AdditionalOpeningDate']]\n",
    "hours['Open'] = pd.to_datetime(hours['Open'], format='%H:%M').dt.time \n",
    "hours['Close'] = pd.to_datetime(hours['Close'], format='%H:%M').dt.time "
   ]
  },
  {
   "cell_type": "code",
   "execution_count": 103,
   "metadata": {},
   "outputs": [],
   "source": [
    "def explorefunc(df):\n",
    "    print(df.dtypes)\n",
    "    print(df.shape)\n",
    "    print(\"Count of each variable\")\n",
    "    print(df.count())\n",
    "    print(\"Number of unique values for each variable\")\n",
    "    print(df.nunique())\n",
    "    print(\"Count of null values for each variable\")\n",
    "    print(df.isnull().sum())\n",
    "    return"
   ]
  },
  {
   "cell_type": "code",
   "execution_count": 104,
   "metadata": {},
   "outputs": [
    {
     "name": "stdout",
     "output_type": "stream",
     "text": [
      "OrganisationID          int64\n",
      "OrganisationCode       object\n",
      "OrganisationType       object\n",
      "SubType                object\n",
      "OrganisationName       object\n",
      "OrganisationStatus     object\n",
      "IsPimsManaged            bool\n",
      "Address1               object\n",
      "Address2               object\n",
      "Address3               object\n",
      "City                   object\n",
      "County                 object\n",
      "Postcode               object\n",
      "Latitude              float64\n",
      "Longitude             float64\n",
      "dtype: object\n",
      "(7580, 15)\n",
      "Count of each variable\n",
      "OrganisationID        7580\n",
      "OrganisationCode      7580\n",
      "OrganisationType      7580\n",
      "SubType               7580\n",
      "OrganisationName      7580\n",
      "OrganisationStatus    7580\n",
      "IsPimsManaged         7580\n",
      "Address1              5420\n",
      "Address2              3881\n",
      "Address3              1955\n",
      "City                  4898\n",
      "County                3174\n",
      "Postcode              5430\n",
      "Latitude              5424\n",
      "Longitude             5424\n",
      "dtype: int64\n",
      "Number of unique values for each variable\n",
      "OrganisationID        7580\n",
      "OrganisationCode      7580\n",
      "OrganisationType         1\n",
      "SubType                  1\n",
      "OrganisationName      7115\n",
      "OrganisationStatus       1\n",
      "IsPimsManaged            2\n",
      "Address1              4903\n",
      "Address2              3177\n",
      "Address3              1281\n",
      "City                  1520\n",
      "County                  95\n",
      "Postcode              4941\n",
      "Latitude              4919\n",
      "Longitude             4934\n",
      "dtype: int64\n",
      "Count of null values for each variable\n",
      "OrganisationID           0\n",
      "OrganisationCode         0\n",
      "OrganisationType         0\n",
      "SubType                  0\n",
      "OrganisationName         0\n",
      "OrganisationStatus       0\n",
      "IsPimsManaged            0\n",
      "Address1              2160\n",
      "Address2              3699\n",
      "Address3              5625\n",
      "City                  2682\n",
      "County                4406\n",
      "Postcode              2150\n",
      "Latitude              2156\n",
      "Longitude             2156\n",
      "dtype: int64\n"
     ]
    }
   ],
   "source": [
    "explorefunc(gp)"
   ]
  },
  {
   "cell_type": "code",
   "execution_count": 93,
   "metadata": {},
   "outputs": [
    {
     "name": "stdout",
     "output_type": "stream",
     "text": [
      "OrganisationID       int64\n",
      "OrganisationCode    object\n",
      "OrganisationName    object\n",
      "MetricName          object\n",
      "Value               object\n",
      "Text                object\n",
      "dtype: object\n",
      "(428920, 6)\n",
      "Count of each variable\n",
      "OrganisationID      428920\n",
      "OrganisationCode    428920\n",
      "OrganisationName    428920\n",
      "MetricName          428920\n",
      "Value               397348\n",
      "Text                428920\n",
      "dtype: int64\n",
      "Number of unique values for each variable\n",
      "OrganisationID      16447\n",
      "OrganisationCode     9172\n",
      "OrganisationName    10360\n",
      "MetricName             17\n",
      "Value                 730\n",
      "Text                58144\n",
      "dtype: int64\n",
      "Count of null values for each variable\n",
      "OrganisationID          0\n",
      "OrganisationCode        0\n",
      "OrganisationName        0\n",
      "MetricName              0\n",
      "Value               31572\n",
      "Text                    0\n",
      "dtype: int64\n"
     ]
    }
   ],
   "source": [
    "explorefunc(indicators)"
   ]
  },
  {
   "cell_type": "code",
   "execution_count": 94,
   "metadata": {},
   "outputs": [
    {
     "name": "stdout",
     "output_type": "stream",
     "text": [
      "OrganisationID            int64\n",
      "WeekDay                  object\n",
      "Open                     object\n",
      "Close                    object\n",
      "OpeningTimeType          object\n",
      "AdditionalOpeningDate    object\n",
      "dtype: object\n",
      "(123744, 6)\n",
      "Count of each variable\n",
      "OrganisationID           123744\n",
      "WeekDay                  122229\n",
      "Open                     122393\n",
      "Close                    122393\n",
      "OpeningTimeType          123744\n",
      "AdditionalOpeningDate      1515\n",
      "dtype: int64\n",
      "Number of unique values for each variable\n",
      "OrganisationID           9026\n",
      "WeekDay                     7\n",
      "Open                      125\n",
      "Close                     148\n",
      "OpeningTimeType             3\n",
      "AdditionalOpeningDate      74\n",
      "dtype: int64\n",
      "Count of null values for each variable\n",
      "OrganisationID                0\n",
      "WeekDay                    1515\n",
      "Open                       1351\n",
      "Close                      1351\n",
      "OpeningTimeType               0\n",
      "AdditionalOpeningDate    122229\n",
      "dtype: int64\n"
     ]
    }
   ],
   "source": [
    "explorefunc(hours)"
   ]
  },
  {
   "cell_type": "code",
   "execution_count": 63,
   "metadata": {},
   "outputs": [
    {
     "data": {
      "text/plain": [
       "5430"
      ]
     },
     "execution_count": 63,
     "metadata": {},
     "output_type": "execute_result"
    }
   ],
   "source": [
    "gp.Postcode.count()"
   ]
  },
  {
   "cell_type": "code",
   "execution_count": 64,
   "metadata": {},
   "outputs": [],
   "source": [
    "correct_postcodes = gp.City.str.contains(\"^[A-Z]{1,2}[0-9R][0-9A-Z]? [0-9][ABD-HJLNP-UW-Z]{2}$\")"
   ]
  },
  {
   "cell_type": "code",
   "execution_count": 69,
   "metadata": {},
   "outputs": [],
   "source": [
    "hours['Open'], hours['Close'] = hours['Times'].str.split('-', 1).str\n",
    "hours.drop(columns='Times')\n",
    "hours = hours[['OrganisationId','WeekDay','Open','Close','OpeningTimeType','AdditionalOpeningDate']]"
   ]
  },
  {
   "cell_type": "code",
   "execution_count": 114,
   "metadata": {},
   "outputs": [],
   "source": [
    "count_metric = indicators.groupby('MetricName')['OrganisationID'].count().sort_values(ascending=False).reset_index(name='count')"
   ]
  },
  {
   "cell_type": "code",
   "execution_count": 115,
   "metadata": {},
   "outputs": [
    {
     "data": {
      "text/html": [
       "<div>\n",
       "<style scoped>\n",
       "    .dataframe tbody tr th:only-of-type {\n",
       "        vertical-align: middle;\n",
       "    }\n",
       "\n",
       "    .dataframe tbody tr th {\n",
       "        vertical-align: top;\n",
       "    }\n",
       "\n",
       "    .dataframe thead th {\n",
       "        text-align: right;\n",
       "    }\n",
       "</style>\n",
       "<table border=\"1\" class=\"dataframe\">\n",
       "  <thead>\n",
       "    <tr style=\"text-align: right;\">\n",
       "      <th></th>\n",
       "      <th>MetricName</th>\n",
       "      <th>count</th>\n",
       "    </tr>\n",
       "  </thead>\n",
       "  <tbody>\n",
       "    <tr>\n",
       "      <th>0</th>\n",
       "      <td>Flu vaccinations -  Aged 65 and over group</td>\n",
       "      <td>31620</td>\n",
       "    </tr>\n",
       "    <tr>\n",
       "      <th>1</th>\n",
       "      <td>Flu vaccinations - Under 65 At Risk Groups</td>\n",
       "      <td>31616</td>\n",
       "    </tr>\n",
       "    <tr>\n",
       "      <th>2</th>\n",
       "      <td>Care Quality Commission Inspection Ratings</td>\n",
       "      <td>31544</td>\n",
       "    </tr>\n",
       "    <tr>\n",
       "      <th>3</th>\n",
       "      <td>Patient Satisfaction with GP Practice Opening ...</td>\n",
       "      <td>28450</td>\n",
       "    </tr>\n",
       "    <tr>\n",
       "      <th>4</th>\n",
       "      <td>Patient Experience - Confidence and Trust in GP</td>\n",
       "      <td>28450</td>\n",
       "    </tr>\n",
       "    <tr>\n",
       "      <th>5</th>\n",
       "      <td>Antibiotic Prescribing</td>\n",
       "      <td>28332</td>\n",
       "    </tr>\n",
       "    <tr>\n",
       "      <th>6</th>\n",
       "      <td>Cervical Cancer Screening</td>\n",
       "      <td>27946</td>\n",
       "    </tr>\n",
       "    <tr>\n",
       "      <th>7</th>\n",
       "      <td>Diabetes - Managing Blood Glucose Level (HbA1c)</td>\n",
       "      <td>27832</td>\n",
       "    </tr>\n",
       "    <tr>\n",
       "      <th>8</th>\n",
       "      <td>High Blood Pressure Management</td>\n",
       "      <td>27832</td>\n",
       "    </tr>\n",
       "    <tr>\n",
       "      <th>9</th>\n",
       "      <td>Mental Health  Comprehensive Care Planning</td>\n",
       "      <td>27824</td>\n",
       "    </tr>\n",
       "    <tr>\n",
       "      <th>10</th>\n",
       "      <td>Stroke prevention: medication for patients wit...</td>\n",
       "      <td>27786</td>\n",
       "    </tr>\n",
       "    <tr>\n",
       "      <th>11</th>\n",
       "      <td>Dementia - Face to Face Reviews</td>\n",
       "      <td>27770</td>\n",
       "    </tr>\n",
       "    <tr>\n",
       "      <th>12</th>\n",
       "      <td>Cancer Detection Rate</td>\n",
       "      <td>26224</td>\n",
       "    </tr>\n",
       "    <tr>\n",
       "      <th>13</th>\n",
       "      <td>Percentage of children aged 1 completed primar...</td>\n",
       "      <td>13925</td>\n",
       "    </tr>\n",
       "    <tr>\n",
       "      <th>14</th>\n",
       "      <td>Proportion of children aged 2 with pneumococca...</td>\n",
       "      <td>13923</td>\n",
       "    </tr>\n",
       "    <tr>\n",
       "      <th>15</th>\n",
       "      <td>Proportion of children aged 2  with Haemophilu...</td>\n",
       "      <td>13923</td>\n",
       "    </tr>\n",
       "    <tr>\n",
       "      <th>16</th>\n",
       "      <td>Proportion of children aged 2 with Measles, Mu...</td>\n",
       "      <td>13923</td>\n",
       "    </tr>\n",
       "  </tbody>\n",
       "</table>\n",
       "</div>"
      ],
      "text/plain": [
       "                                           MetricName  count\n",
       "0          Flu vaccinations -  Aged 65 and over group  31620\n",
       "1          Flu vaccinations - Under 65 At Risk Groups  31616\n",
       "2          Care Quality Commission Inspection Ratings  31544\n",
       "3   Patient Satisfaction with GP Practice Opening ...  28450\n",
       "4     Patient Experience - Confidence and Trust in GP  28450\n",
       "5                              Antibiotic Prescribing  28332\n",
       "6                           Cervical Cancer Screening  27946\n",
       "7     Diabetes - Managing Blood Glucose Level (HbA1c)  27832\n",
       "8                      High Blood Pressure Management  27832\n",
       "9         Mental Health  Comprehensive Care Planning  27824\n",
       "10  Stroke prevention: medication for patients wit...  27786\n",
       "11                    Dementia - Face to Face Reviews  27770\n",
       "12                              Cancer Detection Rate  26224\n",
       "13  Percentage of children aged 1 completed primar...  13925\n",
       "14  Proportion of children aged 2 with pneumococca...  13923\n",
       "15  Proportion of children aged 2  with Haemophilu...  13923\n",
       "16  Proportion of children aged 2 with Measles, Mu...  13923"
      ]
     },
     "execution_count": 115,
     "metadata": {},
     "output_type": "execute_result"
    }
   ],
   "source": [
    "count_metric"
   ]
  },
  {
   "cell_type": "code",
   "execution_count": 120,
   "metadata": {},
   "outputs": [
    {
     "data": {
      "text/plain": [
       "<pandas.core.groupby.groupby.SeriesGroupBy object at 0x10f2faa58>"
      ]
     },
     "execution_count": 120,
     "metadata": {},
     "output_type": "execute_result"
    }
   ],
   "source": [
    "indicators.groupby('MetricName')['Value']"
   ]
  },
  {
   "cell_type": "code",
   "execution_count": null,
   "metadata": {},
   "outputs": [],
   "source": []
  }
 ],
 "metadata": {
  "kernelspec": {
   "display_name": "Python 3",
   "language": "python",
   "name": "python3"
  },
  "language_info": {
   "codemirror_mode": {
    "name": "ipython",
    "version": 3
   },
   "file_extension": ".py",
   "mimetype": "text/x-python",
   "name": "python",
   "nbconvert_exporter": "python",
   "pygments_lexer": "ipython3",
   "version": "3.6.5"
  }
 },
 "nbformat": 4,
 "nbformat_minor": 2
}
