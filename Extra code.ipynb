{
 "cells": [
  {
   "cell_type": "code",
   "execution_count": 103,
   "metadata": {},
   "outputs": [],
   "source": [
    "def explorefunc(df):\n",
    "    print(df.dtypes)\n",
    "    print(df.shape)\n",
    "    print(\"Count of each variable\")\n",
    "    print(df.count())\n",
    "    print(\"Number of unique values for each variable\")\n",
    "    print(df.nunique())\n",
    "    print(\"Count of null values for each variable\")\n",
    "    print(df.isnull().sum())\n",
    "    return"
   ]
  },
  {
   "cell_type": "code",
   "execution_count": 104,
   "metadata": {},
   "outputs": [
    {
     "name": "stdout",
     "output_type": "stream",
     "text": [
      "OrganisationID          int64\n",
      "OrganisationCode       object\n",
      "OrganisationType       object\n",
      "SubType                object\n",
      "OrganisationName       object\n",
      "OrganisationStatus     object\n",
      "IsPimsManaged            bool\n",
      "Address1               object\n",
      "Address2               object\n",
      "Address3               object\n",
      "City                   object\n",
      "County                 object\n",
      "Postcode               object\n",
      "Latitude              float64\n",
      "Longitude             float64\n",
      "dtype: object\n",
      "(7580, 15)\n",
      "Count of each variable\n",
      "OrganisationID        7580\n",
      "OrganisationCode      7580\n",
      "OrganisationType      7580\n",
      "SubType               7580\n",
      "OrganisationName      7580\n",
      "OrganisationStatus    7580\n",
      "IsPimsManaged         7580\n",
      "Address1              5420\n",
      "Address2              3881\n",
      "Address3              1955\n",
      "City                  4898\n",
      "County                3174\n",
      "Postcode              5430\n",
      "Latitude              5424\n",
      "Longitude             5424\n",
      "dtype: int64\n",
      "Number of unique values for each variable\n",
      "OrganisationID        7580\n",
      "OrganisationCode      7580\n",
      "OrganisationType         1\n",
      "SubType                  1\n",
      "OrganisationName      7115\n",
      "OrganisationStatus       1\n",
      "IsPimsManaged            2\n",
      "Address1              4903\n",
      "Address2              3177\n",
      "Address3              1281\n",
      "City                  1520\n",
      "County                  95\n",
      "Postcode              4941\n",
      "Latitude              4919\n",
      "Longitude             4934\n",
      "dtype: int64\n",
      "Count of null values for each variable\n",
      "OrganisationID           0\n",
      "OrganisationCode         0\n",
      "OrganisationType         0\n",
      "SubType                  0\n",
      "OrganisationName         0\n",
      "OrganisationStatus       0\n",
      "IsPimsManaged            0\n",
      "Address1              2160\n",
      "Address2              3699\n",
      "Address3              5625\n",
      "City                  2682\n",
      "County                4406\n",
      "Postcode              2150\n",
      "Latitude              2156\n",
      "Longitude             2156\n",
      "dtype: int64\n"
     ]
    }
   ],
   "source": [
    "explorefunc(gp)"
   ]
  },
  {
   "cell_type": "code",
   "execution_count": 93,
   "metadata": {},
   "outputs": [
    {
     "name": "stdout",
     "output_type": "stream",
     "text": [
      "OrganisationID       int64\n",
      "OrganisationCode    object\n",
      "OrganisationName    object\n",
      "MetricName          object\n",
      "Value               object\n",
      "Text                object\n",
      "dtype: object\n",
      "(428920, 6)\n",
      "Count of each variable\n",
      "OrganisationID      428920\n",
      "OrganisationCode    428920\n",
      "OrganisationName    428920\n",
      "MetricName          428920\n",
      "Value               397348\n",
      "Text                428920\n",
      "dtype: int64\n",
      "Number of unique values for each variable\n",
      "OrganisationID      16447\n",
      "OrganisationCode     9172\n",
      "OrganisationName    10360\n",
      "MetricName             17\n",
      "Value                 730\n",
      "Text                58144\n",
      "dtype: int64\n",
      "Count of null values for each variable\n",
      "OrganisationID          0\n",
      "OrganisationCode        0\n",
      "OrganisationName        0\n",
      "MetricName              0\n",
      "Value               31572\n",
      "Text                    0\n",
      "dtype: int64\n"
     ]
    }
   ],
   "source": [
    "explorefunc(indicators)"
   ]
  },
  {
   "cell_type": "code",
   "execution_count": 94,
   "metadata": {},
   "outputs": [
    {
     "name": "stdout",
     "output_type": "stream",
     "text": [
      "OrganisationID            int64\n",
      "WeekDay                  object\n",
      "Open                     object\n",
      "Close                    object\n",
      "OpeningTimeType          object\n",
      "AdditionalOpeningDate    object\n",
      "dtype: object\n",
      "(123744, 6)\n",
      "Count of each variable\n",
      "OrganisationID           123744\n",
      "WeekDay                  122229\n",
      "Open                     122393\n",
      "Close                    122393\n",
      "OpeningTimeType          123744\n",
      "AdditionalOpeningDate      1515\n",
      "dtype: int64\n",
      "Number of unique values for each variable\n",
      "OrganisationID           9026\n",
      "WeekDay                     7\n",
      "Open                      125\n",
      "Close                     148\n",
      "OpeningTimeType             3\n",
      "AdditionalOpeningDate      74\n",
      "dtype: int64\n",
      "Count of null values for each variable\n",
      "OrganisationID                0\n",
      "WeekDay                    1515\n",
      "Open                       1351\n",
      "Close                      1351\n",
      "OpeningTimeType               0\n",
      "AdditionalOpeningDate    122229\n",
      "dtype: int64\n"
     ]
    }
   ],
   "source": [
    "explorefunc(hours)"
   ]
  },
  {
   "cell_type": "code",
   "execution_count": 63,
   "metadata": {},
   "outputs": [
    {
     "data": {
      "text/plain": [
       "5430"
      ]
     },
     "execution_count": 63,
     "metadata": {},
     "output_type": "execute_result"
    }
   ],
   "source": [
    "gp.Postcode.count()"
   ]
  }
 ],
 "metadata": {
  "kernelspec": {
   "display_name": "Python 3",
   "language": "python",
   "name": "python3"
  },
  "language_info": {
   "codemirror_mode": {
    "name": "ipython",
    "version": 3
   },
   "file_extension": ".py",
   "mimetype": "text/x-python",
   "name": "python",
   "nbconvert_exporter": "python",
   "pygments_lexer": "ipython3",
   "version": "3.6.4"
  }
 },
 "nbformat": 4,
 "nbformat_minor": 2
}
